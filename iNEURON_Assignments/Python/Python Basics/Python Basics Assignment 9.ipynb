{
 "cells": [
  {
   "cell_type": "markdown",
   "id": "468b9135",
   "metadata": {},
   "source": [
    "# Assignment 9 Solutions"
   ]
  },
  {
   "cell_type": "markdown",
   "id": "7c55d8c8",
   "metadata": {},
   "source": [
    "SUBMITTED BY: RATHIK RAM POOJARY"
   ]
  },
  {
   "cell_type": "markdown",
   "id": "2ad282ad",
   "metadata": {},
   "source": [
    "**1.To what does a relative path refer ?**\n",
    "\n",
    "**Ans:** The relative path is the path to some file with respect to your current working directory (PWD).\n",
    "\n",
    "**For example:** if Absolute path to a file called stuff.txt is: C:/users/admin/docs/iNeuron.txt If my PWD is C:/users/admin/ , then the relative path to iNeuron.txt would be: docs/iNeuron.txt\n",
    "\n",
    "**Note:** PWD + relative path = absolute path\n",
    "\n",
    "**2.Where does an absolute path start with your Operating System ?**\n",
    "\n",
    "**Ans:** In Linux based Operating systems the absolute path starts with / where as in Windows based Operating systems absolute path starts with C:\n",
    "\n",
    "**3.What does the functions os.getcwd() and os.chdir() do ?**\n",
    "\n",
    "**Ans:** os.getcwd() method tells us the location of current working directory (CWD) whereas os.chdir() method in Python used to change the current working directory to specified path. These functions are similar to linux commands pwd and cd"
   ]
  },
  {
   "cell_type": "code",
   "execution_count": null,
   "id": "9b322a01",
   "metadata": {},
   "outputs": [],
   "source": [
    "import os\n",
    "print(os.getcwd()) # Prints the current Working Directory\n",
    "path = r'C:\\Users\\Gaurav\\Documents'\n",
    "os.chdir(path)\n",
    "print(os.getcwd())"
   ]
  },
  {
   "cell_type": "markdown",
   "id": "0ebaaa7f",
   "metadata": {},
   "source": [
    "**4.What are . and .. folders ?**\n",
    "\n",
    "**Ans:** . Represents the Current Directory Whereas .. Represents the Parent Directory of the Current Directory\n",
    "\n",
    "**For Example:** if the below path is my absolute path:\n",
    "C:\\\\Users\\\\Gaurav\\\\Documents\\\\iNeuron-Assignments\\\\Python Basic Assignment\n",
    "Then . represents the path C:\\\\Users\\\\Gaurav\\\\Documents\\\\iNeuron-Assignments\\\\Python Basic Assignment\n",
    "Where as .. represents the path C:\\\\Users\\\\Gaurav\\\\Documents\\\\iNeuron-Assignments\n",
    "\n",
    "**5.In C:\\bacon\\eggs\\spam.txt which part is the dir name and which part is the base name ?**\n",
    "\n",
    "**Ans:** For C:\\bacon\\eggs\\spam.txt\n",
    "The Directory name is C:\\\\bacon\\\\eggs\n",
    "The Base name is spam.txt"
   ]
  },
  {
   "cell_type": "code",
   "execution_count": 2,
   "id": "4076e8df",
   "metadata": {},
   "outputs": [
    {
     "name": "stdout",
     "output_type": "stream",
     "text": [
      "C:\\bacon\\eggs\n",
      "spam.txt\n"
     ]
    }
   ],
   "source": [
    "import os\n",
    "path = r'C:\\bacon\\eggs\\spam.txt'\n",
    "print(os.path.dirname(path))\n",
    "print(os.path.basename(path))"
   ]
  },
  {
   "cell_type": "markdown",
   "id": "049ed3c5",
   "metadata": {},
   "source": [
    "**6.What are the three mode arguments that can be passed to the open() function ?**\n",
    "\n",
    "**Ans:** A file can be Accessed in python using open() function. Open function takes two arguments filename and mode of operation (optional). If mode is not provided, the default mode of opening is Read mode.\n",
    "So, the syntax is: open(filename, mode)\n",
    "\n",
    "   **1. ‘r’** – Read Mode: This is the default mode for open(). The file is              opened and a pointer is positioned at the beginning of the file’s              content.\n",
    "  \n",
    "   **2. ‘w’** – Write Mode: Using this mode will overwrite any existing content          in a file. If the given file does not exist, a new one will be                  created.\n",
    "   \n",
    "   **3. ‘r+’** – Read/Write Mode: Use this mode if you need to simultaneously            read and write to a file.\n",
    "   \n",
    "   **4. ‘a’** – Append Mode: With this mode the user can append the data                without overwriting any already existing data in the file.\n",
    "   \n",
    "   **5. ‘a+’** – Append and Read Mode: In this mode you can read and append the          data without overwriting the original file.\n",
    "   \n",
    "   **6. ‘x’** – Exclusive Creating Mode: This mode is for the sole purpose of            creating new files. Use this mode if you know the file to be written            doesn’t exist beforehand."
   ]
  },
  {
   "cell_type": "markdown",
   "id": "0f8df961",
   "metadata": {},
   "source": [
    "**7.What happens if an existing file is opened in write mode ?**\n",
    "\n",
    "**Ans:** Using this mode, we can overwrite any existing content in a file. If the given file does not exist then a new one will be created.\n",
    "\n",
    "**8.How do you tell the difference between read() and readlines() ?**\n",
    "\n",
    "**Ans:** The main difference is that **read()** will read the whole file at once and then print out the first characters that take up as many bytes as we specify in the parenthesis\n",
    "\n",
    "   **1. **whereas the **readline()** that will read and print out only the               first characters that take up as many bytes as we specify in the               parenthesis. We may want to use readline() when we are reading files           that are too big for our RAM.\n",
    "  \n",
    "  **2. **The **read()** would treat each character in the file separately,               meaning that the iteration would happen for every character.\n",
    "  \n",
    "  **3. **The **readline()** function, on the other hand, only reads a single             line of the file. This means that if the first line of the file were           three lines long, the readline() function would only parse (or                 iterate/operate) on the first line of the file.\n",
    "\n",
    "**9.What data structure does a shelf value resemble ?**\n",
    "\n",
    "**Ans:** It contains key and values it represents dictionary. The Shelve Module of Python is a very popular module of Python which works like an effective tool for persistent data storage inside files using a Python program. As the name of this module suggests, i.e., Shelve, we can easily interpret that it will work as a shelf object to keep all our data inside a file and save all the necessary information. In the Shelve Module, a shelf object is defined, which acts like a dictionary-type object, and it is persistently stored in the disk file of our computer. That's how we can save all the data and information through Python Shelve Module in our system and keep it till whenever we want."
   ]
  },
  {
   "cell_type": "code",
   "execution_count": 3,
   "id": "d56a0c65",
   "metadata": {},
   "outputs": [
    {
     "name": "stdout",
     "output_type": "stream",
     "text": [
      "A Shelve file with SampleFile name is successfully created\n",
      "All entries are successfully made inside the sample shelve file\n"
     ]
    }
   ],
   "source": [
    "    # Importing the Shelve Module  \n",
    "    import shelve  \n",
    "    # Creating a shelve file with open() function  \n",
    "    shelveVariable = shelve.open(\"SampleFile\")  \n",
    "    print(\"A Shelve file with SampleFile name is successfully created\")  \n",
    "    # Making entries inside the shelve file  \n",
    "    shelveVariable['Employee Name'] = 'Jackie Chan'  \n",
    "    shelveVariable['Employee Age'] = 27  \n",
    "    shelveVariable['Employee department'] = 'Management'  \n",
    "    shelveVariable['Employee Performance'] = 'Excellent'  \n",
    "    shelveVariable['Employee Score'] = 9.2  \n",
    "    shelveVariable.close()  \n",
    "    print(\"All entries are successfully made inside the sample shelve file\")  "
   ]
  }
 ],
 "metadata": {
  "kernelspec": {
   "display_name": "Python 3 (ipykernel)",
   "language": "python",
   "name": "python3"
  },
  "language_info": {
   "codemirror_mode": {
    "name": "ipython",
    "version": 3
   },
   "file_extension": ".py",
   "mimetype": "text/x-python",
   "name": "python",
   "nbconvert_exporter": "python",
   "pygments_lexer": "ipython3",
   "version": "3.9.12"
  }
 },
 "nbformat": 4,
 "nbformat_minor": 5
}
