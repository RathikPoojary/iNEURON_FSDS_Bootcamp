{
 "cells": [
  {
   "cell_type": "markdown",
   "id": "7e6bfc47",
   "metadata": {},
   "source": [
    "# Assignment 6 Solutions"
   ]
  },
  {
   "cell_type": "markdown",
   "id": "0bbcdf6d",
   "metadata": {},
   "source": [
    "SUBMITTED BY: RATHIIK RAM POOJARY"
   ]
  },
  {
   "cell_type": "markdown",
   "id": "dfe74647",
   "metadata": {},
   "source": [
    "**1.What are Escape characters ? and how do you use them ?**\n",
    "\n",
    "**Ans:** Escape characters represent characters in string values that would otherwise be difficult or impossible to type into code. we can use the backslash character to escape a single character or symbol\n",
    "\n",
    "**example:** \\t, \\n"
   ]
  },
  {
   "cell_type": "code",
   "execution_count": 1,
   "id": "31859c1c",
   "metadata": {},
   "outputs": [
    {
     "data": {
      "text/plain": [
       "'We are the so-called \"iNeuronites\" from India.'"
      ]
     },
     "execution_count": 1,
     "metadata": {},
     "output_type": "execute_result"
    }
   ],
   "source": [
    "txt = \"We are the so-called \\\"iNeuronites\\\" from India.\"\n",
    "txt"
   ]
  },
  {
   "cell_type": "markdown",
   "id": "37e7c0b6",
   "metadata": {},
   "source": [
    "**2.What do the escape characters n and t stand for ?**\n",
    "\n",
    "**Ans:** \\n is a newline, \\t is a tab"
   ]
  },
  {
   "cell_type": "code",
   "execution_count": 2,
   "id": "620e2de6",
   "metadata": {},
   "outputs": [
    {
     "name": "stdout",
     "output_type": "stream",
     "text": [
      "Hello\n",
      "World!\n",
      "Hello\n",
      "World!\n"
     ]
    }
   ],
   "source": [
    "txt = \"Hello\\nWorld!\"\n",
    "print(txt) \n",
    "\n",
    "txt1 = \"Hello\\tWorld!\"\n",
    "print(txt) "
   ]
  },
  {
   "cell_type": "markdown",
   "id": "aa05ea1d",
   "metadata": {},
   "source": [
    "**3.What is the way to include backslash character in a string?**\n",
    "\n",
    "**Ans:** The \\\\ escape character will represent the backslash character in a string"
   ]
  },
  {
   "cell_type": "markdown",
   "id": "47aa7a71",
   "metadata": {},
   "source": [
    "**4.The string \"Howl's Moving Castle\" is a correct value. Why isn't the single quote character in the word Howl's not escaped a problem ?**\n",
    "\n",
    "**Ans:** The string \"Howl's Moving Castle\" escaped the problem because it is wrapped inside double quotes. if its wrapped inside single quotes then we have to use escape character \\' to show single quote in the final output\n",
    "'Howl\\'s Moving Castle' -> 'Howl's Moving Castle'\n",
    "\n",
    "**5.How do you write a string of newlines if you don't want to use the n character?**\n",
    "\n",
    "**Ans:** Multiline string allow you to use newlines in string without the \\n escape character"
   ]
  },
  {
   "cell_type": "code",
   "execution_count": 3,
   "id": "e64d181e",
   "metadata": {},
   "outputs": [
    {
     "name": "stdout",
     "output_type": "stream",
     "text": [
      "iNeuron full stack\n",
      "Awesome Data Science Course\n"
     ]
    }
   ],
   "source": [
    "# Example:\n",
    "a = '''iNeuron full stack\n",
    "Awesome Data Science Course'''\n",
    "print(a)\n"
   ]
  },
  {
   "cell_type": "markdown",
   "id": "3873f36a",
   "metadata": {},
   "source": [
    "**6.What are the values of the given expressions ?**\n",
    "\n",
    "'Hello, world!'[1]\n",
    "\n",
    "'Hello, world!'[0:5]\n",
    "\n",
    "'Hello, world!'[:5]\n",
    "\n",
    "'Hello, world!'[3:]\n",
    "\n",
    "**Ans:** The values for the given expressions are:\n",
    "\n",
    "'Hello, world!'[1] -> 'e'\n",
    "\n",
    "'Hello, world!'[0:5] -> 'Hello'\n",
    "\n",
    "'Hello, world!'[:5] -> 'Hello'\n",
    "\n",
    "'Hello, world!'[3:] -> 'lo, world!'\n",
    "\n",
    "**7.What are the values of the following expressions ?**\n",
    "\n",
    "'Hello'.upper()\n",
    "\n",
    "'Hello'.upper().isupper()\n",
    "\n",
    "'Hello'.upper().lower()\n",
    "\n",
    "**Ans:** The values for the given expressions are:\n",
    "\n",
    "'Hello'.upper() -> 'HELLO'\n",
    "\n",
    "'Hello'.upper().isupper() -> True\n",
    "\n",
    "'Hello'.upper().lower() -> 'hello'\n",
    "\n",
    "**8.What are the values of the following expressions ?**\n",
    "\n",
    "'Remember, remember, the fifith of July.'.split()\n",
    "-'.join('There can only one'.split())\n",
    "\n",
    "**Ans:** The values for the given expressions are:\n",
    "'Remember, remember, the fifith of July.'.split() -> ['Remember,', 'remember,', 'the', 'fifith', 'of', 'July.']\n",
    "'-'.join('There can only one'.split()) -> 'There-can-only-one'\n",
    "\n",
    "**9.What are the methods for right-justifying, left-justifying and centering a string ?**\n",
    "\n",
    "**Ans:** The rjust(),ljust(),center() string methods, respectively\n",
    "\n",
    "str.ljust(s, width[, fillchar])\n",
    "\n",
    "str.rjust(s, width[, fillchar])\n",
    "\n",
    "str.center(s, width[, fillchar])\n",
    "\n",
    "**10.What is the best way to remove whitespace characters from the start or end ?**\n",
    "\n",
    "**Ans:** The lstrip() and rstrip() methods remove whitesapce characters from the left and right ends of a string respectively"
   ]
  },
  {
   "cell_type": "code",
   "execution_count": 4,
   "id": "ea43c197",
   "metadata": {},
   "outputs": [
    {
     "name": "stdout",
     "output_type": "stream",
     "text": [
      " String after stripping all '-' is : iNeuron\n",
      " String after stripping all leading '-' is : iNeuron---\n",
      " String after stripping all trailing '-' is : ---iNeuron\n"
     ]
    }
   ],
   "source": [
    "str = \"---iNeuron---\"\n",
    " \n",
    "# using strip() to delete all '-'\n",
    "print ( \" String after stripping all '-' is : \", end=\"\")\n",
    "print ( str.strip('-') )\n",
    " \n",
    "# using lstrip() to delete all trailing '-'\n",
    "print ( \" String after stripping all leading '-' is : \", end=\"\")\n",
    "print ( str.lstrip('-') )\n",
    " \n",
    "# using rstrip() to delete all leading '-'\n",
    "print ( \" String after stripping all trailing '-' is : \", end=\"\")\n",
    "print ( str.rstrip('-') )"
   ]
  },
  {
   "cell_type": "code",
   "execution_count": null,
   "id": "40c2e47c",
   "metadata": {},
   "outputs": [],
   "source": []
  }
 ],
 "metadata": {
  "kernelspec": {
   "display_name": "Python 3 (ipykernel)",
   "language": "python",
   "name": "python3"
  },
  "language_info": {
   "codemirror_mode": {
    "name": "ipython",
    "version": 3
   },
   "file_extension": ".py",
   "mimetype": "text/x-python",
   "name": "python",
   "nbconvert_exporter": "python",
   "pygments_lexer": "ipython3",
   "version": "3.9.12"
  }
 },
 "nbformat": 4,
 "nbformat_minor": 5
}
