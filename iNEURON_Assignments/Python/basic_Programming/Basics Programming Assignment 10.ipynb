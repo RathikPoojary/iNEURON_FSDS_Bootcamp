{
 "cells": [
  {
   "cell_type": "markdown",
   "id": "fa44b30f",
   "metadata": {},
   "source": [
    "# Assignment 10 Solutions"
   ]
  },
  {
   "cell_type": "markdown",
   "id": "7a08a713",
   "metadata": {},
   "source": [
    "SUBMITTED BY: RATHIK RAM POOJARY"
   ]
  },
  {
   "cell_type": "markdown",
   "id": "00741c49",
   "metadata": {},
   "source": [
    "**1.Write a Python Program to find sum of elements in a list ?**"
   ]
  },
  {
   "cell_type": "code",
   "execution_count": 6,
   "id": "9a9f5613",
   "metadata": {},
   "outputs": [
    {
     "name": "stdout",
     "output_type": "stream",
     "text": [
      "Enter the No of Entries in a List: 5\n",
      "Enter a element: 10\n",
      "Enter a element: 20\n",
      "Enter a element: 30\n",
      "Enter a element: 40\n",
      "Enter a element: 50\n",
      "Sum of Elements: 150\n"
     ]
    }
   ],
   "source": [
    "def sumofList():\n",
    "    in_ele = int(input('Enter the No of Entries in a List: '))\n",
    "    in_list = []\n",
    "    for itr in range(in_ele):\n",
    "        in_list.append(int(input('Enter a element: ')))\n",
    "    print(f'Sum of Elements: {sum(in_list)}')\n",
    "\n",
    "sumofList()"
   ]
  },
  {
   "cell_type": "markdown",
   "id": "34dd3bc8",
   "metadata": {},
   "source": [
    "**2.Write a Python Program to multiply all numbers in the list ?**"
   ]
  },
  {
   "cell_type": "code",
   "execution_count": 7,
   "id": "aac17992",
   "metadata": {},
   "outputs": [
    {
     "name": "stdout",
     "output_type": "stream",
     "text": [
      "Enter the No of Entries in a List: 2\n",
      "Enter a element: 10\n",
      "Enter a element: 20\n",
      "200\n"
     ]
    }
   ],
   "source": [
    "def mulofList():\n",
    "    in_ele = int(input('Enter the No of Entries in a List: '))\n",
    "    in_list = []\n",
    "    mul = 1\n",
    "    for itr in range(in_ele):\n",
    "        in_list.append(int(input('Enter a element: ')))\n",
    "    for ele in in_list:\n",
    "        mul = mul * ele\n",
    "    print(mul)\n",
    "\n",
    "mulofList()"
   ]
  },
  {
   "cell_type": "markdown",
   "id": "09093e28",
   "metadata": {},
   "source": [
    "**3.Write a Python Program to find smallest number in the list ?**"
   ]
  },
  {
   "cell_type": "code",
   "execution_count": 8,
   "id": "1af49072",
   "metadata": {},
   "outputs": [
    {
     "name": "stdout",
     "output_type": "stream",
     "text": [
      "Enter the No of elements in a list: 3\n",
      "Enter a Element: 1\n",
      "Enter a Element: 2\n",
      "Enter a Element: 4\n",
      "The Smallest Element in [1, 2, 4] is 1\n"
     ]
    }
   ],
   "source": [
    "def smallEleInList():\n",
    "    in_ele = int(input('Enter the No of elements in a list: '))\n",
    "    in_list = []\n",
    "    for ele in range(in_ele):\n",
    "        in_list.append(int(input('Enter a Element: ')))\n",
    "    print(f'The Smallest Element in {in_list} is {sorted(in_list)[0]}')\n",
    "smallEleInList()"
   ]
  },
  {
   "cell_type": "markdown",
   "id": "18582a28",
   "metadata": {},
   "source": [
    "**4.Write a Python Program to find largest number in the list ?**"
   ]
  },
  {
   "cell_type": "code",
   "execution_count": 9,
   "id": "6cb236f6",
   "metadata": {},
   "outputs": [
    {
     "name": "stdout",
     "output_type": "stream",
     "text": [
      "Enter the No of elements in a list: 5\n",
      "Enter a Element: 1\n",
      "Enter a Element: 2\n",
      "Enter a Element: 3\n",
      "Enter a Element: 45\n",
      "Enter a Element: 54\n",
      "The Largest Element in [1, 2, 3, 45, 54] is 54\n"
     ]
    }
   ],
   "source": [
    "def largestEleInList():\n",
    "    in_ele = int(input('Enter the No of elements in a list: '))\n",
    "    in_list = []\n",
    "    for ele in range(in_ele):\n",
    "        in_list.append(int(input('Enter a Element: ')))\n",
    "    print(f'The Largest Element in {in_list} is {sorted(in_list, reverse=True)[0]}')\n",
    "\n",
    "largestEleInList()"
   ]
  },
  {
   "cell_type": "markdown",
   "id": "5464c6c4",
   "metadata": {},
   "source": [
    "**5.Write a Python Program to find second largest number in the list ?**"
   ]
  },
  {
   "cell_type": "code",
   "execution_count": 10,
   "id": "71f8f5ff",
   "metadata": {},
   "outputs": [
    {
     "name": "stdout",
     "output_type": "stream",
     "text": [
      "Enter the No of elements in a list: 5\n",
      "Enter a Element: 10\n",
      "Enter a Element: 15\n",
      "Enter a Element: 32\n",
      "Enter a Element: 15\n",
      "Enter a Element: 45\n",
      "The Second Largest Element in [10, 15, 32, 15, 45] is 32\n"
     ]
    }
   ],
   "source": [
    "def secondLargestEleInList():\n",
    "    in_ele = int(input('Enter the No of elements in a list: '))\n",
    "    in_list = []\n",
    "    for ele in range(in_ele):\n",
    "        in_list.append(int(input('Enter a Element: ')))\n",
    "    print(f'The Second Largest Element in {in_list} is {sorted(in_list, reverse=True)[1]}')\n",
    "\n",
    "secondLargestEleInList()"
   ]
  },
  {
   "cell_type": "markdown",
   "id": "91975814",
   "metadata": {},
   "source": [
    "**6.Write a Python Program to find N largest elements in the list ?**"
   ]
  },
  {
   "cell_type": "code",
   "execution_count": 11,
   "id": "c85eb70c",
   "metadata": {},
   "outputs": [
    {
     "name": "stdout",
     "output_type": "stream",
     "text": [
      "Enter the No of elements in a list: 2\n",
      "Enter a Element: 12\n",
      "Enter a Element: 4\n",
      "The 4 Largest Element in [12, 4] is [12, 4]\n"
     ]
    }
   ],
   "source": [
    "def nLargestEleInList(k):\n",
    "    in_ele = int(input('Enter the No of elements in a list: '))\n",
    "    in_list = []\n",
    "    for ele in range(in_ele):\n",
    "        in_list.append(int(input('Enter a Element: ')))\n",
    "    print(f'The {k} Largest Element in {in_list} is {sorted(in_list, reverse=True)[0:k]}')\n",
    "\n",
    "nLargestEleInList(4)"
   ]
  },
  {
   "cell_type": "markdown",
   "id": "aa9b3e3d",
   "metadata": {},
   "source": [
    "**7.Write a Python Program to find even numbers in the list ?**"
   ]
  },
  {
   "cell_type": "code",
   "execution_count": 13,
   "id": "030c911a",
   "metadata": {},
   "outputs": [
    {
     "name": "stdout",
     "output_type": "stream",
     "text": [
      "Enter the No of elements in a list: 5\n",
      "Enter a Element: 10\n",
      "Enter a Element: 52\n",
      "Enter a Element: 35\n",
      "Enter a Element: 45\n",
      "Enter a Element: 78\n",
      "The Even Elements in [10, 52, 35, 45, 78] are [10, 52, 78]\n"
     ]
    }
   ],
   "source": [
    "def evenNoInList():\n",
    "    in_ele = int(input('Enter the No of elements in a list: '))\n",
    "    in_list = []\n",
    "    even_list = []\n",
    "    for ele in range(in_ele):\n",
    "        in_list.append(int(input('Enter a Element: ')))\n",
    "    for ele in in_list:\n",
    "        if ele%2 == 0:\n",
    "            even_list.append(ele)\n",
    "    print(f'The Even Elements in {in_list} are {even_list}')\n",
    "\n",
    "evenNoInList()"
   ]
  },
  {
   "cell_type": "markdown",
   "id": "8fc0c66c",
   "metadata": {},
   "source": [
    "**8.Write a Python Program to find odd numbers in the list ?**"
   ]
  },
  {
   "cell_type": "code",
   "execution_count": 15,
   "id": "67f34428",
   "metadata": {},
   "outputs": [
    {
     "name": "stdout",
     "output_type": "stream",
     "text": [
      "Enter the No of elements in a list: 5\n",
      "Enter a Element: 4\n",
      "Enter a Element: 5\n",
      "Enter a Element: 6\n",
      "Enter a Element: 78\n",
      "Enter a Element: 88\n",
      "The Even Elements in [4, 5, 6, 78, 88] are [5]\n"
     ]
    }
   ],
   "source": [
    "def oddNoInList():\n",
    "    in_ele = int(input('Enter the No of elements in a list: '))\n",
    "    in_list = []\n",
    "    odd_list = []\n",
    "    for ele in range(in_ele):\n",
    "        in_list.append(int(input('Enter a Element: ')))\n",
    "    for ele in in_list:\n",
    "        if ele%2 != 0:\n",
    "            odd_list.append(ele)\n",
    "    print(f'The Even Elements in {in_list} are {odd_list}')\n",
    "\n",
    "oddNoInList()\n"
   ]
  },
  {
   "cell_type": "markdown",
   "id": "e91a9c48",
   "metadata": {},
   "source": [
    "**9.Write a Python Program to remove empty list from list ?**"
   ]
  },
  {
   "cell_type": "code",
   "execution_count": 18,
   "id": "33a0f070",
   "metadata": {},
   "outputs": [
    {
     "name": "stdout",
     "output_type": "stream",
     "text": [
      "Enter all elements of the list: 1,2,3,4,5,6,7,8\n",
      "There is no [] List in the list (1, 2, 3, 4, 5, 6, 7, 8)\n"
     ]
    }
   ],
   "source": [
    "def checkEmptyList():\n",
    "    in_list = eval(input('Enter all elements of the list: '))\n",
    "    if [] in in_list:\n",
    "        print(f'There is an Empty list in {in_list} at Position {in_list.index([])}')\n",
    "        in_list.remove([])\n",
    "        print(f'The List after removing [] is {in_list}')\n",
    "    else:\n",
    "        print(f'There is no [] List in the list {in_list}')\n",
    "        \n",
    "checkEmptyList()"
   ]
  },
  {
   "cell_type": "markdown",
   "id": "a9cbc5f0",
   "metadata": {},
   "source": [
    "**10.Write a Python Program to Cloning or Copying a list ?**"
   ]
  },
  {
   "cell_type": "code",
   "execution_count": 25,
   "id": "dd83245b",
   "metadata": {},
   "outputs": [
    {
     "name": "stdout",
     "output_type": "stream",
     "text": [
      "Enter a list[1,2,3,4,5,6,7,8,9,0]\n",
      "[1, 2, 3, 4, 5, 6, 7, 8, 9, 0] 2361333934912\n",
      "[1, 2, 3, 4, 5, 6, 7, 8, 9, 0] 2361333401152\n"
     ]
    }
   ],
   "source": [
    "import copy\n",
    "\n",
    "def cloneList():\n",
    "    in_list = eval(input('Enter a list'))\n",
    "    print(in_list, id(in_list))\n",
    "    cloned_list = in_list.copy()\n",
    "    print(cloned_list, id(cloned_list))\n",
    "\n",
    "cloneList()"
   ]
  },
  {
   "cell_type": "markdown",
   "id": "dbab7e05",
   "metadata": {},
   "source": [
    "**11.Write a Python Program to count occurences of an element in a list ?**"
   ]
  },
  {
   "cell_type": "code",
   "execution_count": 27,
   "id": "1169055b",
   "metadata": {},
   "outputs": [
    {
     "name": "stdout",
     "output_type": "stream",
     "text": [
      "Enter the elements of the list: [1,2,3,4,5,6]\n",
      "Enter the element to find: 4\n",
      "There are 1 occurences of 4 in [1, 2, 3, 4, 5, 6]\n"
     ]
    }
   ],
   "source": [
    "def checkOccurence():\n",
    "    in_list = eval(input('Enter the elements of the list: '))\n",
    "    in_num = eval(input('Enter the element to find: '))\n",
    "    count = 0\n",
    "    if in_num in in_list:\n",
    "        for ele in in_list:\n",
    "            if ele == in_num:\n",
    "                count = count+1\n",
    "    print(f'There are {count} occurences of {in_num} in {in_list}')\n",
    "    \n",
    "checkOccurence()"
   ]
  }
 ],
 "metadata": {
  "kernelspec": {
   "display_name": "Python 3 (ipykernel)",
   "language": "python",
   "name": "python3"
  },
  "language_info": {
   "codemirror_mode": {
    "name": "ipython",
    "version": 3
   },
   "file_extension": ".py",
   "mimetype": "text/x-python",
   "name": "python",
   "nbconvert_exporter": "python",
   "pygments_lexer": "ipython3",
   "version": "3.9.12"
  }
 },
 "nbformat": 4,
 "nbformat_minor": 5
}
